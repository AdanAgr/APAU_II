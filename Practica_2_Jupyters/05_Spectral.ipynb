{
 "cells": [
  {
   "cell_type": "markdown",
   "metadata": {
    "_uuid": "054f0cca3061be223d76116cb8544b598eb5a297"
   },
   "source": [
    "# Spectral Clustering"
   ]
  },
  {
   "cell_type": "markdown",
   "metadata": {},
   "source": [
    "Spectral Clustering é un algoritmo de *clustering* que utiliza información procedente da matriz de similitude dun grafo para asignar puntos a *clusters*, e está baseado na idea de que os puntos nun mesmo *cluster* deben ser máis similares entre eles. Transforma o espazo de datos nun grafo, onde as arestas representan a similitude entre puntos. Despois fai unha descomposición espectral da matriz de similitude, e usa os vectores para realizar a asignación de clusters. Este algoritmo é útil para datos non lineais e de formas complexas que non poden ser ben modelados por métodos como K-Means.\n",
    "\n",
    "Spectral Clustering é un algoritmo de *clustering* que usa información procedente da matriz de similitude dun grafo para asignar puntos a clusters. Fundaméntase na idea de que os puntos que pertencen ao mesmo *cluster* deben ser máis similares entre eles ca os puntos doutros *clusters*. O algoritmo funciona transformando o espazo de datos nun grafo, onde cada nodo representa un punto e as arestas entre estes puntos reflicten o grao de similitude. Realiza unha descomposición espectral da matriz de similitude para obter os vectores propios e valores propios. Estes vectores propios úsanse despois para realizar a asignación dos puntos a clusters.\n",
    "\n",
    "Unha das principais vantaxes do Spectral Clustering é a súa capacidade para manexar datos con estruturas non lineais e formas complexas, o que fai que sexa especialmente útil en conxuntos de datos onde os *clusters* non están claramente separados por fronteiras lineais."
   ]
  },
  {
   "cell_type": "markdown",
   "metadata": {
    "_uuid": "fd0fc89fe26333add074845d0629b52ae828584c"
   },
   "source": [
    "## Dependencias"
   ]
  },
  {
   "cell_type": "code",
   "execution_count": null,
   "metadata": {},
   "outputs": [],
   "source": [
    "!pip install numpy matplotlib scikit-learn seaborn pandas"
   ]
  },
  {
   "cell_type": "code",
   "execution_count": null,
   "metadata": {
    "_cell_guid": "b1076dfc-b9ad-4769-8c92-a6c4dae69d19",
    "_kg_hide-input": false,
    "_uuid": "8f2839f25d086af736a60e9eeb907d3b93b6e0e5"
   },
   "outputs": [],
   "source": [
    "import numpy as np\n",
    "import pandas as pd\n",
    "import matplotlib.pyplot as plt\n",
    "import seaborn as sns\n",
    "from sklearn.preprocessing import MinMaxScaler\n",
    "from sklearn.cluster import SpectralClustering\n",
    "from sklearn.metrics import silhouette_score\n",
    "import warnings"
   ]
  },
  {
   "cell_type": "code",
   "execution_count": null,
   "metadata": {},
   "outputs": [],
   "source": [
    "warnings.filterwarnings(\"ignore\")"
   ]
  },
  {
   "cell_type": "markdown",
   "metadata": {},
   "source": [
    "### Datos\n",
    "\n",
    "#### Exploración dos datos"
   ]
  },
  {
   "cell_type": "code",
   "execution_count": null,
   "metadata": {},
   "outputs": [],
   "source": [
    "!wget http://fegalaz.usc.es/~sdocio/apau2/p1/datasets/customers.csv"
   ]
  },
  {
   "cell_type": "code",
   "execution_count": null,
   "metadata": {},
   "outputs": [],
   "source": [
    "df = pd.read_csv(r'customers.csv')"
   ]
  },
  {
   "cell_type": "code",
   "execution_count": null,
   "metadata": {},
   "outputs": [],
   "source": [
    "df.head()"
   ]
  },
  {
   "cell_type": "markdown",
   "metadata": {},
   "source": [
    "Seleccionamos as columnas coas que imos traballar."
   ]
  },
  {
   "cell_type": "code",
   "execution_count": null,
   "metadata": {},
   "outputs": [],
   "source": [
    "df = df[['Annual Income (k$)', 'Spending Score (1-100)']]"
   ]
  },
  {
   "cell_type": "code",
   "execution_count": null,
   "metadata": {},
   "outputs": [],
   "source": [
    "df.head()"
   ]
  },
  {
   "cell_type": "markdown",
   "metadata": {},
   "source": [
    "Normalizamos os datos para axustar a escala."
   ]
  },
  {
   "cell_type": "code",
   "execution_count": null,
   "metadata": {},
   "outputs": [],
   "source": [
    "scaler = MinMaxScaler()\n",
    "\n",
    "X = scaler.fit_transform(df)\n",
    "df_scaled = pd.DataFrame(X, columns=df.columns, index=df.index)"
   ]
  },
  {
   "cell_type": "code",
   "execution_count": null,
   "metadata": {},
   "outputs": [],
   "source": [
    "df_scaled.head()"
   ]
  },
  {
   "cell_type": "markdown",
   "metadata": {},
   "source": [
    "### Clustering"
   ]
  },
  {
   "cell_type": "code",
   "execution_count": null,
   "metadata": {},
   "outputs": [],
   "source": [
    "def get_optimal_clusters(X, max_clusters=20):\n",
    "    max_score = -1\n",
    "    optimal = 1\n",
    "\n",
    "    for n_clusters in range(2, max_clusters + 1):\n",
    "        clusterer = SpectralClustering(n_clusters=n_clusters, random_state=42)\n",
    "        score = silhouette_score(X, clusterer.fit_predict(X))\n",
    "        if score > max_score:\n",
    "            max_score = score\n",
    "            optimal = n_clusters\n",
    "    return optimal\n",
    "\n",
    "optimal = get_optimal_clusters(df_scaled)\n",
    "print(f\"Número de clusters: {optimal}\")"
   ]
  },
  {
   "cell_type": "code",
   "execution_count": null,
   "metadata": {},
   "outputs": [],
   "source": [
    "spectral = SpectralClustering(n_clusters=optimal, random_state=42)\n",
    "labels = spectral.fit_predict(df_scaled)"
   ]
  },
  {
   "cell_type": "code",
   "execution_count": null,
   "metadata": {},
   "outputs": [],
   "source": [
    "labels"
   ]
  },
  {
   "cell_type": "code",
   "execution_count": null,
   "metadata": {},
   "outputs": [],
   "source": [
    "val, count = np.unique(labels, return_counts=True)\n",
    "\n",
    "for v, c in sorted(zip(val, count), key=lambda x: x[1], reverse=True):\n",
    "    print(f\"  Cluster {v}: {c} puntos\")"
   ]
  },
  {
   "cell_type": "markdown",
   "metadata": {},
   "source": [
    "**Visualización**"
   ]
  },
  {
   "cell_type": "code",
   "execution_count": null,
   "metadata": {},
   "outputs": [],
   "source": [
    "df['Cluster'] = labels"
   ]
  },
  {
   "cell_type": "code",
   "execution_count": null,
   "metadata": {},
   "outputs": [],
   "source": [
    "fig, ax = plt.subplots(figsize=(8, 6))\n",
    "sns.scatterplot(x='Annual Income (k$)', y='Spending Score (1-100)', data=df, hue='Cluster', ax=ax, palette='Set2', edgecolors='k', s=75)\n",
    "plt.show()"
   ]
  }
 ],
 "metadata": {
  "kaggle": {
   "accelerator": "none",
   "dataSources": [
    {
     "datasetId": 42674,
     "sourceId": 74935,
     "sourceType": "datasetVersion"
    }
   ],
   "dockerImageVersionId": 21695,
   "isGpuEnabled": false,
   "isInternetEnabled": false,
   "language": "python",
   "sourceType": "notebook"
  },
  "kernelspec": {
   "display_name": "Python 3 (ipykernel)",
   "language": "python",
   "name": "python3"
  },
  "language_info": {
   "codemirror_mode": {
    "name": "ipython",
    "version": 3
   },
   "file_extension": ".py",
   "mimetype": "text/x-python",
   "name": "python",
   "nbconvert_exporter": "python",
   "pygments_lexer": "ipython3",
   "version": "3.13.2"
  }
 },
 "nbformat": 4,
 "nbformat_minor": 4
}
